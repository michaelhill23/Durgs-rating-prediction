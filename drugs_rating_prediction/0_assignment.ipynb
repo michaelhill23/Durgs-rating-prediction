{
 "cells": [
  {
   "cell_type": "markdown",
   "metadata": {
    "collapsed": true
   },
   "source": [
    "# Yrtemelet assignment"
   ]
  },
  {
   "cell_type": "markdown",
   "metadata": {},
   "source": [
    "*The data set is a drug review data set. The reviews are grouped into reports and ratings\n",
    "on the three aspects benefits, side effects and overall comment.\n",
    "Data: Attached as two files (test_data.tsv, training_data.tsv)*<br><br>\n",
    "**Task:** Predict the overall review, side effect and effectiveness rating based on the patient\n",
    "text reviews. Main focus should be on predicting the overall review rating based on the\n",
    "overall comment. The data is already split into training and test data.<br>\n",
    "**Input:**\n",
    "    - Info: Drug name, Condition\n",
    "    - Rating: overall, side effect and effectiveness ratings\n",
    "    - Text: overall, side effect and effectiveness reviews\n",
    "**Output:** Build a model based on NLP (Natural Language Processing) / Machine Learning\n",
    "techniques to predict the ratings in the test data and find meaningful ways of representing\n",
    "the data and results.<br>\n",
    "**Comments:** Usually when we get a reporting task, neither we or the people who requests\n",
    "the report knows exactly what we will find inside. Sometimes we know what we want, and\n",
    "formulate the questions so that we get our point through. Sometimes people have a query\n",
    "(e.g. how many of the drugs are recommended by the patients). Finally there is the\n",
    "completely open ended investigations, where we try to find patterns we did not know about\n",
    "before. The latest kind of report is usually the most valuable ones, business wise. It adds\n",
    "insight and learnings, while the others are more about driving an agenda."
   ]
  },
  {
   "cell_type": "markdown",
   "metadata": {},
   "source": [
    "## CLEANING DATA"
   ]
  },
  {
   "cell_type": "markdown",
   "metadata": {},
   "source": [
    "Test and training data sets consists of text columns that needs to be cleared or converted to numerical values for further NLP and ML processing"
   ]
  },
  {
   "cell_type": "markdown",
   "metadata": {},
   "source": [
    "### 1. Loading train and test data set from .tsv files to pandas dataframes  "
   ]
  },
  {
   "cell_type": "code",
   "execution_count": null,
   "metadata": {},
   "outputs": [],
   "source": [
    "train_dataset = pd.read_csv('training_data.tsv', sep='\\t', header=0)\n",
    "test_dataset = pd.read_csv('test_data.tsv', sep='\\t', header=0)"
   ]
  },
  {
   "cell_type": "markdown",
   "metadata": {},
   "source": [
    "### 2. Deleting null values from train data set"
   ]
  },
  {
   "cell_type": "markdown",
   "metadata": {},
   "source": [
    "Let's show the proportion of null values within each feature to make a decision if rows with empty cells can be deleted or filled with most relevant values."
   ]
  },
  {
   "cell_type": "code",
   "execution_count": 45,
   "metadata": {},
   "outputs": [
    {
     "data": {
      "text/plain": [
       "Unnamed: 0           0.000000\n",
       "urlDrugName          0.000000\n",
       "rating               0.000000\n",
       "effectiveness        0.000000\n",
       "sideEffects          0.000000\n",
       "benefitsReview       0.000000\n",
       "condition            0.000322\n",
       "sideEffectsReview    0.000644\n",
       "commentsReview       0.002575\n",
       "dtype: float64"
      ]
     },
     "execution_count": 45,
     "metadata": {},
     "output_type": "execute_result"
    }
   ],
   "source": [
    "(train_dataset.isna().sum()/len(train_dataset)).sort_values()"
   ]
  },
  {
   "cell_type": "markdown",
   "metadata": {},
   "source": [
    "From above, we can say that there are single rows with empty cells and deleting them will have no impact on training the model."
   ]
  },
  {
   "cell_type": "markdown",
   "metadata": {},
   "source": [
    "Function deleting rows with empty values in train data set:"
   ]
  },
  {
   "cell_type": "raw",
   "metadata": {},
   "source": [
    "def delete_null_vals(train_ds):\n",
    "    train_ds = train_ds.dropna(axis=0, how='any')\n",
    "    train_ds = train_ds.reset_index(drop=True)\n",
    "    return train_ds\n",
    "\n",
    "train_dataset = delete_null_vals(train_dataset)"
   ]
  },
  {
   "cell_type": "markdown",
   "metadata": {},
   "source": [
    "### 3. Converting text categories to numerical values for 'effectiveness' and 'sideEffects' columns in train and test data sets"
   ]
  },
  {
   "cell_type": "raw",
   "metadata": {},
   "source": [
    "def text_to_numbers(train_ds, test_ds):\n",
    "    train_ds['effectiveness'].replace({'Ineffective': 0,\n",
    "                                      'Marginally Effective': 1,\n",
    "                                      'Moderately Effective': 2,\n",
    "                                      'Considerably Effective': 3,\n",
    "                                      'Highly Effective': 4}, inplace=True)\n",
    "\n",
    "    test_ds['effectiveness'].replace({'Ineffective': 0,\n",
    "                                       'Marginally Effective': 1,\n",
    "                                       'Moderately Effective': 2,\n",
    "                                       'Considerably Effective': 3,\n",
    "                                       'Highly Effective': 4}, inplace=True)\n",
    "\n",
    "    train_ds['sideEffects'].replace({'Extremely Severe Side Effects': 0,\n",
    "                                    'Severe Side Effects': 1,\n",
    "                                    'Moderate Side Effects': 2,\n",
    "                                    'Mild Side Effects': 3,\n",
    "                                    'No Side Effects': 4}, inplace=True)\n",
    "\n",
    "    test_ds['sideEffects'].replace({'Extremely Severe Side Effects': 0,\n",
    "                                     'Severe Side Effects': 1,\n",
    "                                     'Moderate Side Effects': 2,\n",
    "                                     'Mild Side Effects': 3,\n",
    "                                     'No Side Effects': 4}, inplace=True)\n",
    "    return train_ds, test_ds\n",
    "    \n",
    "    \n",
    "    train_dataset, test_dataset = text_to_numbers(train_dataset, test_dataset)  "
   ]
  },
  {
   "cell_type": "markdown",
   "metadata": {},
   "source": [
    "### 4. Decontracting specific words in columns with text reviews for further sentiment analysis for both train and test data sets"
   ]
  },
  {
   "cell_type": "raw",
   "metadata": {},
   "source": [
    "def decontract_reviews(ds):\n",
    "\n",
    "    columns =['benefitsReview', 'sideEffectsReview', 'commentsReview']\n",
    "    for column in columns:\n",
    "        reviews = ds[column]\n",
    "        for i in range(0, len(reviews)):\n",
    "            review = reviews[i]\n",
    "            if not review:\n",
    "                i += 1\n",
    "            else:\n",
    "                # specific\n",
    "                review = re.sub(r\"won\\'t\", \"will not\", review)\n",
    "                review = re.sub(r\"can\\'t\", \"can not\", review)\n",
    "                # general\n",
    "                review = re.sub(r\"n\\'t\", \" not\", review)\n",
    "                review = re.sub(r\"\\'re\", \" are\", review)\n",
    "                review = re.sub(r\"\\'s\", \" is\", review)\n",
    "                review = re.sub(r\"\\'d\", \" would\", review)\n",
    "                review = re.sub(r\"\\'ll\", \" will\", review)\n",
    "                review = re.sub(r\"\\'t\", \" not\", review)\n",
    "                review = re.sub(r\"\\'ve\", \" have\", review)\n",
    "                review = re.sub(r\"\\'m\", \" am\", review)\n",
    "                ds.at[i, column] = review\n",
    "        \n",
    "    return ds\n",
    "    \n",
    "train_dataset = decontract_reviews(train_dataset)\n",
    "test_dataset = decontract_reviews(test_dataset)"
   ]
  },
  {
   "cell_type": "markdown",
   "metadata": {},
   "source": [
    "### 5. Clearing texts in columns with reviews using regular expressions"
   ]
  },
  {
   "cell_type": "raw",
   "metadata": {},
   "source": [
    "def clear_reviews(ds):\n",
    "    columns = ['benefitsReview', 'sideEffectsReview', 'commentsReview']\n",
    "    for column in columns:\n",
    "        reviews = ds[column]\n",
    "        for i in range(0, len(reviews)):\n",
    "            review = reviews[i]\n",
    "            if not review:\n",
    "                i += 1\n",
    "            else:\n",
    "                review = re.sub(r'\\W', ' ', review)\n",
    "\n",
    "                # Remove all single characters not at the begining of sentence\n",
    "                review = re.sub(r'\\s+[a-zA-Z]\\s+', ' ', review)\n",
    "\n",
    "                # Remove single characters from the start\n",
    "                review = re.sub(r'\\^[a-zA-Z]\\s+', ' ', review)\n",
    "\n",
    "                # Remove digits from text\n",
    "                review = re.sub(r'\\d+', ' ', review)\n",
    "\n",
    "                # Substituting multiple spaces with single space\n",
    "                review = re.sub(r'\\s+', ' ', review, flags=re.I)\n",
    "\n",
    "                # Lowercase all characters\n",
    "                review = review.lower()\n",
    "\n",
    "                ds.at[i, column] = review\n",
    "\n",
    "    return ds\n",
    "    \n",
    "train_dataset = clear_reviews(train_dataset)\n",
    "test_dataset = clear_reviews(test_dataset)"
   ]
  },
  {
   "cell_type": "markdown",
   "metadata": {},
   "source": [
    "### 6. Adding columns with reviews sentiment features"
   ]
  },
  {
   "cell_type": "raw",
   "metadata": {},
   "source": [
    "def reviews_sentiment_measure(ds):\n",
    "    columns = ['benefitsReview', 'sideEffectsReview', 'commentsReview']\n",
    "\n",
    "    for column in columns:\n",
    "        reviews = ds[column]\n",
    "        rev_polarity = []\n",
    "        rev_subjectivity = []\n",
    "\n",
    "        for i in range(0, len(reviews)):\n",
    "            review = reviews[i]\n",
    "            senti = TextBlob(review)\n",
    "            polarity = senti.sentiment.polarity\n",
    "            subjectivity = senti.sentiment.subjectivity\n",
    "            rev_polarity.append(polarity)\n",
    "            rev_subjectivity.append(subjectivity)\n",
    "\n",
    "        column_sent_df = pd.DataFrame({column + '_polarity': rev_polarity,\n",
    "                                     column + '_subjectivity': rev_subjectivity})\n",
    "\n",
    "        scaler = MinMaxScaler()\n",
    "        column_sent_df[[column + '_polarity']] = scaler.fit_transform(column_sent_df[[column + '_polarity']])\n",
    "\n",
    "        ds = pd.concat([ds, column_sent_df], axis=1)\n",
    "\n",
    "    return ds\n",
    "    \n",
    "train_dataset = clear_reviews(train_dataset)\n",
    "test_dataset = clear_reviews(test_dataset)"
   ]
  },
  {
   "cell_type": "markdown",
   "metadata": {},
   "source": [
    "### 7. Adding columns with reviews word count"
   ]
  },
  {
   "cell_type": "raw",
   "metadata": {},
   "source": [
    "def reviews_lenghts(train_ds, test_ds):\n",
    "    columns = ['benefitsReview', 'sideEffectsReview', 'commentsReview']\n",
    "    for col in columns:\n",
    "        new_col = col + '_len'\n",
    "        train_ds[new_col] = train_ds[col].apply(lambda x: 0 if x is np.nan else len(x.split()))\n",
    "        test_ds[new_col] = test_ds[col].apply(lambda x: 0 if x is np.nan else len(x.split()))\n",
    "\n",
    "    return train_ds, test_ds\n",
    "\n",
    "train_dataset, test_dataset = reviews_lenghts(train_dataset, test_dataset)"
   ]
  },
  {
   "cell_type": "markdown",
   "metadata": {},
   "source": [
    "### 8. Adding column with numerical value of a drug"
   ]
  },
  {
   "cell_type": "raw",
   "metadata": {},
   "source": [
    "def group_drugs(train_ds, test_ds):\n",
    "    df = pd.concat([train_ds['urlDrugName'], test_ds['urlDrugName']], ignore_index=True)\n",
    "    df = df.unique()\n",
    "    df = pd.DataFrame(df, columns=['urlDrugName'])\n",
    "    df.insert(0, 'urlDrugName_group', range(1, 1 + len(df)))\n",
    "\n",
    "    train_ds['urlDrugName_group'] = train_ds['urlDrugName'].replace(df['urlDrugName'].values, df['urlDrugName_group'].values)\n",
    "    test_ds['urlDrugName_group'] = test_ds['urlDrugName'].replace(df['urlDrugName'].values, df['urlDrugName_group'].values)\n",
    "\n",
    "    return train_ds, test_ds\n",
    "\n",
    "train_dataset, test_dataset = group_drugs(train_dataset, test_dataset)"
   ]
  },
  {
   "cell_type": "markdown",
   "metadata": {},
   "source": [
    "### 9. Adding column with numerical value of a condition"
   ]
  },
  {
   "cell_type": "raw",
   "metadata": {},
   "source": [
    "def group_conditions(train_ds, test_ds):\n",
    "    df = pd.concat([train_ds['condition'], test_ds['condition']], ignore_index=True)\n",
    "    df = df.unique()\n",
    "    df = pd.DataFrame(df, columns=['condition'])\n",
    "    df.insert(0, 'condition_group', range(1, 1 + len(df)))\n",
    "\n",
    "    # seria = pd.Series(df.urlDrugName_group.values, df.urlDrugName.values).to_dict()\n",
    "    train_ds['condition_group'] = train_ds['condition'].replace(df['condition'].values, df['condition_group'].values)\n",
    "    test_ds['condition_group'] = test_ds['condition'].replace(df['condition'].values, df['condition_group'].values)\n",
    "\n",
    "    return train_ds, test_ds\n",
    "\n",
    "train_dataset, test_dataset = group_conditions(train_dataset, test_dataset)"
   ]
  },
  {
   "cell_type": "markdown",
   "metadata": {},
   "source": [
    "### 10. Writing converted data sets to files  "
   ]
  },
  {
   "cell_type": "raw",
   "metadata": {},
   "source": [
    "train_dataset.to_csv('train_output.csv', sep=';')\n",
    "test_dataset.to_csv('test_output.csv', sep=';')"
   ]
  },
  {
   "cell_type": "markdown",
   "metadata": {},
   "source": [
    "## FEATURES SELECTION (for final rating predictions)"
   ]
  },
  {
   "cell_type": "markdown",
   "metadata": {},
   "source": [
    "The output of drugs review cleaning process are two .csv files representing training (*train_output.csv*) and testing (*test_output.csv\"*) data sets. Next step is to identify which features from clean data set are the most important and can give the biggest value for training the model and finally predicting the **rating of a drug**. First of all, let's print which features from clean data  set are going to be taken into account:"
   ]
  },
  {
   "cell_type": "code",
   "execution_count": null,
   "metadata": {},
   "outputs": [],
   "source": [
    "import pandas as pd\n",
    "df1 = pd.read_csv('train_output.csv', sep=';')"
   ]
  },
  {
   "cell_type": "code",
   "execution_count": 12,
   "metadata": {},
   "outputs": [],
   "source": [
    "X_train = df1[['effectiveness', 'sideEffects', 'benefitsReview_polarity', 'benefitsReview_subjectivity',\n",
    "                'sideEffectsReview_polarity', 'sideEffectsReview_subjectivity', 'commentsReview_polarity',\n",
    "                'commentsReview_subjectivity', 'urlDrugName_group', 'condition_group', 'benefitsReview_len',\n",
    "               'sideEffectsReview_len', 'commentsReview_len']]\n",
    "y_train = df1[['rating']]"
   ]
  },
  {
   "cell_type": "markdown",
   "metadata": {},
   "source": [
    "### 1. Features descriptions"
   ]
  },
  {
   "cell_type": "markdown",
   "metadata": {},
   "source": [
    "**effectiveness** - natural number (range 0 to 4) representing the drug effectiveness rating. (*0 is 'Ineffective', 1 is 'Marginally Effective', 2 is 'Moderately Effective', 3 is 'Considerably Effective', 4 is 'Highly Effective'*)<br><br>\n",
    "**sideEffects** - natural number (range 0 to 4) representing the level of drug's siede effects (*0 is 'Extremely Severe Side, 1 is 'Severe Side Effects', 2 is 'Moderate Side Effects', 3 is 'Mild Side Effects', 4 is'No Side Effects'*)<br><br>\n",
    "**benefitsReview_polarity** - numerical value (between 0 and 1) indicating if the benefits review is positive, neautral or negative (0 - negativity borderline, 0.5 - neutral, 1 - positivity borderline)<br><br>\n",
    "**benefitsReview_subjectivity** - numerical value (between 0 and 1) indicating if the benefits review is objective fact statement or subjective opinion (0 - objectivity borderline, 1 - subjectivity borderline)<br><br>\n",
    "**sideEffectsReview_polarity** - numerical value (between 0 and 1) indicating if the side effects review is positive, neautral or negative (0 - negativity borderline, 0.5 - neutral, 1 - positivity borderline)<br><br>\n",
    "**sideEffectsReview_subjectivity** - numerical value (between 0 and 1) indicating if the side effects review is objective fact statement or subjective opinion (0 - objectivity borderline, 1 - subjectivity borderline)<br><br>\n",
    "**commentsReview_polarity** - numerical value (between 0 and 1) indicating if the comments review is positive, neautral or negative (0 - negativity borderline, 0.5 - neutral, 1 - positivity borderline)<br><br>\n",
    "**commentsReview_subjectivity** - numerical value (between 0 and 1) indicating if the comments review is objective fact statement or subjective opinion (0 - objectivity borderline, 1 - subjectivity borderline)<br><br>\n",
    "**urlDrugName_group** - natural number indicating the name/group of a drug<br><br>\n",
    "**condition_group** - natural number indicating patient's name/group of a condition<br><br>\n",
    "**benefitsReview_len** - natural number representing the number of words in drug's benefits review<br><br>\n",
    "**sideEffectsReview_len** - natural number representing the number of words in drug's side effects review<br><br>\n",
    "**commentsReview_len** - natural number representing the number of words in drug's comments review<br><br><br>\n",
    "**rating** - 'rating' is a target value, that we will be predicting on test data set. It is a natural number from 1 to 10."
   ]
  },
  {
   "cell_type": "code",
   "execution_count": 46,
   "metadata": {
    "scrolled": true
   },
   "outputs": [
    {
     "data": {
      "text/html": [
       "<div>\n",
       "<style scoped>\n",
       "    .dataframe tbody tr th:only-of-type {\n",
       "        vertical-align: middle;\n",
       "    }\n",
       "\n",
       "    .dataframe tbody tr th {\n",
       "        vertical-align: top;\n",
       "    }\n",
       "\n",
       "    .dataframe thead th {\n",
       "        text-align: right;\n",
       "    }\n",
       "</style>\n",
       "<table border=\"1\" class=\"dataframe\">\n",
       "  <thead>\n",
       "    <tr style=\"text-align: right;\">\n",
       "      <th></th>\n",
       "      <th>effectiveness</th>\n",
       "      <th>sideEffects</th>\n",
       "      <th>benefitsReview_polarity</th>\n",
       "      <th>benefitsReview_subjectivity</th>\n",
       "      <th>sideEffectsReview_polarity</th>\n",
       "      <th>sideEffectsReview_subjectivity</th>\n",
       "      <th>commentsReview_polarity</th>\n",
       "      <th>commentsReview_subjectivity</th>\n",
       "      <th>urlDrugName_group</th>\n",
       "      <th>condition_group</th>\n",
       "      <th>benefitsReview_len</th>\n",
       "      <th>sideEffectsReview_len</th>\n",
       "      <th>commentsReview_len</th>\n",
       "    </tr>\n",
       "  </thead>\n",
       "  <tbody>\n",
       "    <tr>\n",
       "      <th>0</th>\n",
       "      <td>4</td>\n",
       "      <td>3</td>\n",
       "      <td>0.426389</td>\n",
       "      <td>0.225000</td>\n",
       "      <td>0.341667</td>\n",
       "      <td>0.30000</td>\n",
       "      <td>0.50000</td>\n",
       "      <td>0.100000</td>\n",
       "      <td>1</td>\n",
       "      <td>1</td>\n",
       "      <td>26</td>\n",
       "      <td>19</td>\n",
       "      <td>10</td>\n",
       "    </tr>\n",
       "    <tr>\n",
       "      <th>1</th>\n",
       "      <td>4</td>\n",
       "      <td>1</td>\n",
       "      <td>0.775000</td>\n",
       "      <td>0.650000</td>\n",
       "      <td>0.514773</td>\n",
       "      <td>0.57197</td>\n",
       "      <td>0.10000</td>\n",
       "      <td>0.900000</td>\n",
       "      <td>2</td>\n",
       "      <td>2</td>\n",
       "      <td>33</td>\n",
       "      <td>43</td>\n",
       "      <td>11</td>\n",
       "    </tr>\n",
       "    <tr>\n",
       "      <th>2</th>\n",
       "      <td>4</td>\n",
       "      <td>4</td>\n",
       "      <td>0.460714</td>\n",
       "      <td>0.545238</td>\n",
       "      <td>0.575000</td>\n",
       "      <td>0.65000</td>\n",
       "      <td>0.47963</td>\n",
       "      <td>0.602469</td>\n",
       "      <td>3</td>\n",
       "      <td>3</td>\n",
       "      <td>45</td>\n",
       "      <td>6</td>\n",
       "      <td>69</td>\n",
       "    </tr>\n",
       "    <tr>\n",
       "      <th>3</th>\n",
       "      <td>1</td>\n",
       "      <td>3</td>\n",
       "      <td>0.454167</td>\n",
       "      <td>0.195833</td>\n",
       "      <td>0.511111</td>\n",
       "      <td>0.40000</td>\n",
       "      <td>0.50000</td>\n",
       "      <td>0.000000</td>\n",
       "      <td>4</td>\n",
       "      <td>4</td>\n",
       "      <td>105</td>\n",
       "      <td>18</td>\n",
       "      <td>25</td>\n",
       "    </tr>\n",
       "    <tr>\n",
       "      <th>4</th>\n",
       "      <td>1</td>\n",
       "      <td>1</td>\n",
       "      <td>0.500000</td>\n",
       "      <td>0.100000</td>\n",
       "      <td>0.437500</td>\n",
       "      <td>1.00000</td>\n",
       "      <td>0.50000</td>\n",
       "      <td>0.100000</td>\n",
       "      <td>5</td>\n",
       "      <td>5</td>\n",
       "      <td>22</td>\n",
       "      <td>28</td>\n",
       "      <td>2</td>\n",
       "    </tr>\n",
       "  </tbody>\n",
       "</table>\n",
       "</div>"
      ],
      "text/plain": [
       "   effectiveness  sideEffects  benefitsReview_polarity  \\\n",
       "0              4            3                 0.426389   \n",
       "1              4            1                 0.775000   \n",
       "2              4            4                 0.460714   \n",
       "3              1            3                 0.454167   \n",
       "4              1            1                 0.500000   \n",
       "\n",
       "   benefitsReview_subjectivity  sideEffectsReview_polarity  \\\n",
       "0                     0.225000                    0.341667   \n",
       "1                     0.650000                    0.514773   \n",
       "2                     0.545238                    0.575000   \n",
       "3                     0.195833                    0.511111   \n",
       "4                     0.100000                    0.437500   \n",
       "\n",
       "   sideEffectsReview_subjectivity  commentsReview_polarity  \\\n",
       "0                         0.30000                  0.50000   \n",
       "1                         0.57197                  0.10000   \n",
       "2                         0.65000                  0.47963   \n",
       "3                         0.40000                  0.50000   \n",
       "4                         1.00000                  0.50000   \n",
       "\n",
       "   commentsReview_subjectivity  urlDrugName_group  condition_group  \\\n",
       "0                     0.100000                  1                1   \n",
       "1                     0.900000                  2                2   \n",
       "2                     0.602469                  3                3   \n",
       "3                     0.000000                  4                4   \n",
       "4                     0.100000                  5                5   \n",
       "\n",
       "   benefitsReview_len  sideEffectsReview_len  commentsReview_len  \n",
       "0                  26                     19                  10  \n",
       "1                  33                     43                  11  \n",
       "2                  45                      6                  69  \n",
       "3                 105                     18                  25  \n",
       "4                  22                     28                   2  "
      ]
     },
     "execution_count": 46,
     "metadata": {},
     "output_type": "execute_result"
    }
   ],
   "source": [
    "X_train.head()"
   ]
  },
  {
   "cell_type": "markdown",
   "metadata": {},
   "source": [
    "### 2. Checking correlation between features"
   ]
  },
  {
   "cell_type": "code",
   "execution_count": 20,
   "metadata": {},
   "outputs": [
    {
     "data": {
      "image/png": "[encoded data removed]",
      "text/plain": [
       "<Figure size 936x432 with 2 Axes>"
      ]
     },
     "metadata": {
      "needs_background": "light"
     },
     "output_type": "display_data"
    }
   ],
   "source": [
    "import seaborn as sns\n",
    "import matplotlib.pyplot as plt\n",
    "\n",
    "X_train = df1[['effectiveness', 'sideEffects', 'benefitsReview_polarity', 'benefitsReview_subjectivity',\n",
    "                'sideEffectsReview_polarity', 'sideEffectsReview_subjectivity', 'commentsReview_polarity',\n",
    "                'commentsReview_subjectivity', 'urlDrugName_group', 'condition_group', 'benefitsReview_len',\n",
    "               'sideEffectsReview_len', 'commentsReview_len']]\n",
    "y_train = df1[['rating']]\n",
    "\n",
    "X = X_train  \n",
    "y = y_train  \n",
    "\n",
    "corr_matrix = X.corr()\n",
    "corr_features = corr_matrix.index\n",
    "plt.figure(figsize=(13, 6))\n",
    "g=sns.heatmap(X[corr_features].corr(), annot=True, cmap=\"RdYlGn\")\n",
    "plt.show()"
   ]
  },
  {
   "cell_type": "markdown",
   "metadata": {},
   "source": [
    "SUMMARY: from feature correlation matrix, we can read that all features are not correlated with each other, so for now there is no point in excluding any of the selected features. The biggest correlation is between side effects value and side effect's review length and its subjectivity. However, the correlation is low and having in mind that we are going to predict the overall rating of the drug, both features can be useful in training the model.  "
   ]
  },
  {
   "cell_type": "markdown",
   "metadata": {},
   "source": [
    "### 3. Checking feature importance"
   ]
  },
  {
   "cell_type": "code",
   "execution_count": 21,
   "metadata": {},
   "outputs": [
    {
     "name": "stdout",
     "output_type": "stream",
     "text": [
      "[0.16137535 0.10391545 0.06345904 0.06683181 0.06201211 0.0647444\n",
      " 0.05851017 0.06747057 0.07394235 0.06833933 0.06979187 0.0717219\n",
      " 0.06788566]\n"
     ]
    },
    {
     "data": {
      "image/png": "[encoded data removed]",
      "text/plain": [
       "<Figure size 432x288 with 1 Axes>"
      ]
     },
     "metadata": {
      "needs_background": "light"
     },
     "output_type": "display_data"
    }
   ],
   "source": [
    "from sklearn.ensemble import ExtraTreesClassifier\n",
    "import matplotlib.pyplot as plt\n",
    "import warnings; warnings.simplefilter('ignore')\n",
    "\n",
    "X_train = df1[['effectiveness', 'sideEffects', 'benefitsReview_polarity', 'benefitsReview_subjectivity',\n",
    "                'sideEffectsReview_polarity', 'sideEffectsReview_subjectivity', 'commentsReview_polarity',\n",
    "                'commentsReview_subjectivity', 'urlDrugName_group', 'condition_group', 'benefitsReview_len',\n",
    "               'sideEffectsReview_len', 'commentsReview_len']]\n",
    "y_train = df1[['rating']]\n",
    "\n",
    "\n",
    "X = X_train  \n",
    "y = y_train  \n",
    "\n",
    "model = ExtraTreesClassifier()\n",
    "model.fit(X,y.values.ravel())\n",
    "print(model.feature_importances_) \n",
    "feat_importances = pd.Series(model.feature_importances_, index=X.columns)\n",
    "feat_importances.nlargest(13).plot(kind='barh')\n",
    "plt.show()"
   ]
  },
  {
   "cell_type": "markdown",
   "metadata": {},
   "source": [
    "SUMMARY: Feature importance is an inbuilt class that comes with Extra Tree Classifier for extracting the most important features in training data set. Feature importance gives a score for each feature, the higher the score the more important or relevant is the feature towards output variable, which is overall rating. As it can be concluded from above, effectiveness and side effects values are the most relevant features and there is not any feature that can be noticeable treated as not important"
   ]
  },
  {
   "cell_type": "markdown",
   "metadata": {},
   "source": [
    "### 4. Univariate Selection"
   ]
  },
  {
   "cell_type": "code",
   "execution_count": 22,
   "metadata": {},
   "outputs": [
    {
     "name": "stdout",
     "output_type": "stream",
     "text": [
      "                           Feature        Score\n",
      "11           sideEffectsReview_len  6695.108958\n",
      "9                  condition_group  6303.842011\n",
      "10              benefitsReview_len  4360.830651\n",
      "8                urlDrugName_group  1288.636747\n",
      "0                    effectiveness   897.971015\n",
      "1                      sideEffects   754.359400\n",
      "12              commentsReview_len   471.963413\n",
      "5   sideEffectsReview_subjectivity    12.109676\n",
      "3      benefitsReview_subjectivity     8.829543\n",
      "4       sideEffectsReview_polarity     2.036328\n",
      "2          benefitsReview_polarity     1.164910\n",
      "7      commentsReview_subjectivity     1.069074\n",
      "6          commentsReview_polarity     0.530393\n"
     ]
    }
   ],
   "source": [
    "from sklearn.feature_selection import SelectKBest\n",
    "from sklearn.feature_selection import chi2\n",
    "\n",
    "X_train = df1[['effectiveness', 'sideEffects', 'benefitsReview_polarity', 'benefitsReview_subjectivity',\n",
    "                'sideEffectsReview_polarity', 'sideEffectsReview_subjectivity', 'commentsReview_polarity',\n",
    "                'commentsReview_subjectivity', 'urlDrugName_group', 'condition_group', 'benefitsReview_len',\n",
    "               'sideEffectsReview_len', 'commentsReview_len']]\n",
    "y_train = df1[['rating']]\n",
    "\n",
    "X = X_train  \n",
    "y = y_train\n",
    "\n",
    "bestfeatures = SelectKBest(score_func=chi2)\n",
    "fit = bestfeatures.fit(X, y)\n",
    "df_scores = pd.DataFrame(fit.scores_)\n",
    "df_columns = pd.DataFrame(X.columns)\n",
    "\n",
    "featureScores = pd.concat([df_columns, df_scores], axis=1)\n",
    "featureScores.columns = ['Feature', 'Score']  \n",
    "print(featureScores.sort_values(by='Score', ascending=False))  "
   ]
  },
  {
   "cell_type": "markdown",
   "metadata": {},
   "source": [
    "SUMMARY: Univariate feature selection examines each feature individually to determine the strength of the relationship of the feature with the response variable. I used the chi-squared (chi²) statistical test for non-negative features to select the best features from the training data set. Based on this selection method, we can see that polarity and subjectivity of the reviews has much lower dependency on predicting the rating score of the drug. It will be verified later (please see: *MODEL SELECTION point 2. Scoring for selected models, limiting train and test data sets*)"
   ]
  },
  {
   "cell_type": "markdown",
   "metadata": {},
   "source": [
    "##  MODEL SELECTION"
   ]
  },
  {
   "cell_type": "raw",
   "metadata": {},
   "source": [
    "To select the right model, let's check how do they score with default parameters for all of the train and test features. For drug rating prediction, I have chosen several models based on literature reviews, from basic ones to more complexed models.\n",
    "These are:\n",
    "- Logistic Regression\n",
    "- Random Forest\n",
    "- Gaussian Naive Bayes\n",
    "- XGBoost Classifier."
   ]
  },
  {
   "cell_type": "markdown",
   "metadata": {},
   "source": [
    "### 1. Scoring for selected models (with default parameters)  "
   ]
  },
  {
   "cell_type": "code",
   "execution_count": 27,
   "metadata": {},
   "outputs": [
    {
     "name": "stdout",
     "output_type": "stream",
     "text": [
      "Logistic Regression\n",
      "Mean cross validation accuracy is 0.4160352241920805\n",
      "Predicted accuracy is :0.4092664092664093\n",
      "\n",
      "Random Forest\n",
      "Mean cross validation accuracy is 0.41606280730476664\n",
      "Predicted accuracy is :0.3967181467181467\n",
      "\n",
      "Gaussian Naive Bayes\n",
      "Mean cross validation accuracy is 0.4412114418583659\n",
      "Predicted accuracy is :0.4198841698841699\n",
      "\n",
      "XGBoost\n",
      "Mean cross validation accuracy is 0.45895841828231354\n",
      "Predicted accuracy is :0.44787644787644787\n",
      "\n"
     ]
    }
   ],
   "source": [
    "import pandas as pd\n",
    "from sklearn.metrics import accuracy_score\n",
    "from sklearn.model_selection import cross_val_score\n",
    "from sklearn.linear_model import LogisticRegression\n",
    "from sklearn import svm\n",
    "from sklearn.ensemble import RandomForestClassifier\n",
    "from sklearn.naive_bayes import GaussianNB\n",
    "from xgboost import XGBClassifier\n",
    "import warnings; warnings.simplefilter('ignore')\n",
    "\n",
    "\n",
    "df1 = pd.read_csv('train_output.csv', sep=';')\n",
    "df2 = pd.read_csv('test_output.csv', sep=';')\n",
    "\n",
    "X_train = df1[['effectiveness', 'sideEffects', 'benefitsReview_polarity', 'benefitsReview_subjectivity',\n",
    "                'sideEffectsReview_polarity', 'sideEffectsReview_subjectivity', 'commentsReview_polarity',\n",
    "                'commentsReview_subjectivity', 'urlDrugName_group', 'condition_group', 'benefitsReview_len',\n",
    "               'sideEffectsReview_len', 'commentsReview_len']]\n",
    "y_train = df1[['rating']]\n",
    "\n",
    "X_test = df2[['effectiveness', 'sideEffects', 'benefitsReview_polarity', 'benefitsReview_subjectivity',\n",
    "                'sideEffectsReview_polarity', 'sideEffectsReview_subjectivity', 'commentsReview_polarity',\n",
    "                'commentsReview_subjectivity', 'urlDrugName_group', 'condition_group', 'benefitsReview_len',\n",
    "               'sideEffectsReview_len', 'commentsReview_len']]\n",
    "\n",
    "y_test = df2[['rating']]\n",
    "\n",
    "\n",
    "def prediction(model):\n",
    "\n",
    "    # mean accuracy with cross validation\n",
    "    cv_accuracy = cross_val_score(model, X_train, y_train.values.ravel(), cv=10, scoring='accuracy')\n",
    "    print(\"Mean cross validation accuracy is {}\".format(cv_accuracy.mean()))\n",
    "\n",
    "    # training selected model\n",
    "    model.fit(X_train, y_train.values.ravel())\n",
    "\n",
    "    # making prediction on test data set\n",
    "    y_pred = model.predict(X_test)\n",
    "\n",
    "    # measuring accuracy score for selected model\n",
    "    acc_score = accuracy_score(y_test, y_pred)\n",
    "    print('Predicted accuracy is :{}\\n'.format(acc_score))\n",
    "\n",
    "\n",
    "\n",
    "clf_logreg = LogisticRegression()\n",
    "print('Logistic Regression')\n",
    "prediction(clf_logreg)\n",
    "\n",
    "clf_rf = RandomForestClassifier()\n",
    "print('Random Forest')\n",
    "prediction(clf_rf)\n",
    "\n",
    "clf_gnb = GaussianNB()\n",
    "print('Gaussian Naive Bayes')\n",
    "prediction(clf_gnb)\n",
    "\n",
    "clf_xgb = XGBClassifier()\n",
    "print('XGBoost')\n",
    "prediction(clf_xgb)"
   ]
  },
  {
   "cell_type": "markdown",
   "metadata": {},
   "source": [
    "SUMMARY: For train and test data set whithout excluding any feature, verified models score almost the same accuracy."
   ]
  },
  {
   "cell_type": "markdown",
   "metadata": {},
   "source": [
    "### 2. Scoring for selected models, limiting train and test data sets"
   ]
  },
  {
   "cell_type": "markdown",
   "metadata": {},
   "source": [
    "From univariate feature selection that determine the strength of the relationship between a feature and target variable, w concluded that polarity and subjectivity of drug text reviews may not be that imporant for final drug rating prediction. Let's check that hypothesis limiting the datasets by excluding the following features from data sets('benefitsReview_polarity', 'sideEffectsReview_subjectivity', 'commentsReview_polarity','commentsReview_subjectivity') and check models scoring. "
   ]
  },
  {
   "cell_type": "code",
   "execution_count": 29,
   "metadata": {},
   "outputs": [
    {
     "name": "stdout",
     "output_type": "stream",
     "text": [
      "Logistic Regression\n",
      "Mean cross validation accuracy is 0.4134263038613245\n",
      "Predicted accuracy is :0.4083011583011583\n",
      "\n",
      "Random Forest\n",
      "Mean cross validation accuracy is 0.42796450042039236\n",
      "Predicted accuracy is :0.4063706563706564\n",
      "\n",
      "Gaussian Naive Bayes\n",
      "Mean cross validation accuracy is 0.4506013924588882\n",
      "Predicted accuracy is :0.4266409266409266\n",
      "\n",
      "XGBoost\n",
      "Mean cross validation accuracy is 0.4531602833494312\n",
      "Predicted accuracy is :0.444980694980695\n",
      "\n"
     ]
    }
   ],
   "source": [
    "import pandas as pd\n",
    "from sklearn.metrics import accuracy_score\n",
    "from sklearn.model_selection import cross_val_score\n",
    "from sklearn.linear_model import LogisticRegression\n",
    "from sklearn import svm\n",
    "from sklearn.ensemble import RandomForestClassifier\n",
    "from sklearn.naive_bayes import GaussianNB\n",
    "from xgboost import XGBClassifier\n",
    "import warnings; warnings.simplefilter('ignore')\n",
    "\n",
    "\n",
    "df1 = pd.read_csv('train_output.csv', sep=';')\n",
    "df2 = pd.read_csv('test_output.csv', sep=';')\n",
    "\n",
    "X_train = df1[['effectiveness', 'sideEffects', 'urlDrugName_group', 'condition_group', 'benefitsReview_len',\n",
    "               'sideEffectsReview_len', 'commentsReview_len', 'benefitsReview_subjectivity', 'sideEffectsReview_polarity']]\n",
    "y_train = df1[['rating']]\n",
    "\n",
    "X_test = df2[['effectiveness', 'sideEffects', 'urlDrugName_group', 'condition_group', 'benefitsReview_len',\n",
    "               'sideEffectsReview_len', 'commentsReview_len', 'benefitsReview_subjectivity', 'sideEffectsReview_polarity']]\n",
    "y_test = df2[['rating']]\n",
    "\n",
    "\n",
    "def prediction(model):\n",
    "\n",
    "    # mean accuracy with cross validation\n",
    "    cv_accuracy = cross_val_score(model, X_train, y_train.values.ravel(), cv=10, scoring='accuracy')\n",
    "    print(\"Mean cross validation accuracy is {}\".format(cv_accuracy.mean()))\n",
    "\n",
    "    # training selected model\n",
    "    model.fit(X_train, y_train.values.ravel())\n",
    "\n",
    "    # making prediction on test data set\n",
    "    y_pred = model.predict(X_test)\n",
    "\n",
    "    # measuring accuracy score for selected model\n",
    "    acc_score = accuracy_score(y_test, y_pred)\n",
    "    print('Predicted accuracy is :{}\\n'.format(acc_score))\n",
    "\n",
    "\n",
    "\n",
    "clf_logreg = LogisticRegression()\n",
    "print('Logistic Regression')\n",
    "prediction(clf_logreg)\n",
    "\n",
    "clf_rf = RandomForestClassifier()\n",
    "print('Random Forest')\n",
    "prediction(clf_rf)\n",
    "\n",
    "clf_gnb = GaussianNB()\n",
    "print('Gaussian Naive Bayes')\n",
    "prediction(clf_gnb)\n",
    "\n",
    "clf_xgb = XGBClassifier()\n",
    "print('XGBoost')\n",
    "prediction(clf_xgb)"
   ]
  },
  {
   "cell_type": "markdown",
   "metadata": {},
   "source": [
    "SUMMARY: After excluding the least important features pointed by univariate feature selection, selected models score better in accuracy."
   ]
  },
  {
   "cell_type": "markdown",
   "metadata": {},
   "source": [
    "### 3. Models' parameters tunnig"
   ]
  },
  {
   "cell_type": "markdown",
   "metadata": {},
   "source": [
    "Selected models' accuracy scores were achieved, with default parameters for each model. To achieve better results, I will use GridSearchCV to verify the models' scores for different combinations of proposed parameters' values. Proposals for prameters' values were done based on Machine Learning publications to select the most adequate ones for solving the problem."
   ]
  },
  {
   "cell_type": "markdown",
   "metadata": {},
   "source": [
    "The code below selects the best set of proposed parameters for each model in order to maximize the accuracy score: "
   ]
  },
  {
   "cell_type": "code",
   "execution_count": 30,
   "metadata": {},
   "outputs": [],
   "source": [
    "import pandas as pd\n",
    "from sklearn.linear_model import LogisticRegression\n",
    "from sklearn.ensemble import RandomForestClassifier\n",
    "from sklearn.naive_bayes import GaussianNB\n",
    "from xgboost import XGBClassifier\n",
    "from sklearn.model_selection import GridSearchCV\n",
    "import time\n",
    "import warnings; warnings.simplefilter('ignore')\n",
    "\n",
    "\n",
    "\n",
    "df1 = pd.read_csv('train_output.csv', sep=';')\n",
    "df2 = pd.read_csv('test_output.csv', sep=';')\n",
    "\n",
    "X_train = df1[['effectiveness', 'sideEffects', 'urlDrugName_group', 'condition_group', 'benefitsReview_len',\n",
    "               'sideEffectsReview_len', 'commentsReview_len', 'benefitsReview_subjectivity', 'sideEffectsReview_polarity']]\n",
    "y_train = df1[['rating']]\n",
    "\n",
    "X_test = df2[['effectiveness', 'sideEffects', 'urlDrugName_group', 'condition_group', 'benefitsReview_len',\n",
    "               'sideEffectsReview_len', 'commentsReview_len', 'benefitsReview_subjectivity', 'sideEffectsReview_polarity']]\n",
    "y_test = df2[['rating']]\n",
    "\n",
    "def select_model(X, Y):\n",
    "    best_models = {}\n",
    "    models = [\n",
    "        {\n",
    "            'name': 'LogisticRegression',\n",
    "            'estimator': LogisticRegression(),\n",
    "            'hyperparameters': {\n",
    "                'solver': ['newton-cg', 'sag', 'lbfgs'],\n",
    "                'C': [0.001, 0.01, 0.1, 1, 10],\n",
    "                'max_iter': [10, 100, 150]\n",
    "            },\n",
    "        },\n",
    "        \n",
    "        {\n",
    "            'name': 'RandomForest',\n",
    "            'estimator': RandomForestClassifier(),\n",
    "            'hyperparameters': {\n",
    "                'bootstrap': ['True'],\n",
    "                'criterion': ['entropy'],\n",
    "                'max_features': [0.4, 0.5, 0.55, 0.6],\n",
    "                'min_samples_leaf': [5, 10, 20],\n",
    "                'min_samples_split': [2, 6, 10],\n",
    "                'n_estimators': [20, 50, 100]\n",
    "            }\n",
    "        },\n",
    "\n",
    "        {\n",
    "            'name': 'GaussianNB',\n",
    "            'estimator': GaussianNB(),\n",
    "            'hyperparameters': {}\n",
    "        },\n",
    "        {\n",
    "            'name': 'XGBoost',\n",
    "            'estimator': XGBClassifier(),\n",
    "            'hyperparameters': {\n",
    "                'learning_rate': [0.01, 0.05],\n",
    "                'colsample_bytree': [0.5, 0.8],\n",
    "                'subsample': [0.8],\n",
    "                'n_estimators': [150, 1000],\n",
    "                'reg_alpha': [0.3],\n",
    "                'max_depth': [4, 5, 6],\n",
    "                'gamma': [1, 5],\n",
    "                'eval_metric': ['mae']\n",
    "            }\n",
    "\n",
    "        }\n",
    "        \n",
    "    ]\n",
    "\n",
    "    for model in models:\n",
    "        print('\\n', '-'*20, '\\n', model['name'])\n",
    "        start = time.perf_counter()\n",
    "        grid = GridSearchCV(model['estimator'], param_grid=model['hyperparameters'], cv=5, scoring=\"accuracy\",\n",
    "                            verbose=False, n_jobs=1)\n",
    "        grid.fit(X, Y.values.ravel())\n",
    "        best_models[model['name']] = {'score': grid.best_score_, 'params': grid.best_params_}\n",
    "        run = time.perf_counter() - start\n",
    "        print('accuracy: {}\\n{} --{:.2f} seconds.'.format(str(grid.best_score_), str(grid.best_params_), run))\n",
    "\n",
    "    return best_models\n",
    "\n",
    "X_train = df1[['effectiveness', 'sideEffects', 'urlDrugName_group', 'condition_group', 'benefitsReview_len',\n",
    "               'sideEffectsReview_len', 'commentsReview_len', 'benefitsReview_subjectivity', 'sideEffectsReview_polarity']]\n",
    "y_train = df1[['rating']]\n",
    "\n",
    "X, y = X_train, y_train\n",
    "# best = select_model(X, y)"
   ]
  },
  {
   "cell_type": "markdown",
   "metadata": {},
   "source": [
    "Running the 'select_model' function is commented for presentation purpose only, because of the fact that it is time consuming process. Achieved results are presented below:"
   ]
  },
  {
   "cell_type": "raw",
   "metadata": {},
   "source": [
    " -------------------- \n",
    " LogisticRegression\n",
    "accuracy: 0.43087855297157623\n",
    "{'C': 1, 'max_iter': 100, 'solver': 'newton-cg'} --216.05 seconds.\n",
    "\n",
    " -------------------- \n",
    " RandomForest\n",
    "accuracy: 0.47997416020671835\n",
    "{'bootstrap': 'True', 'criterion': 'entropy', 'max_features': 0.55, 'min_samples_leaf': 20, 'min_samples_split': 10, 'n_estimators': 100} --358.46 seconds.\n",
    "\n",
    " -------------------- \n",
    " GaussianNB\n",
    "accuracy: 0.4450904392764858\n",
    "{} --0.05 seconds.\n",
    "\n",
    " -------------------- \n",
    " XGBoost\n",
    "accuracy: 0.46279874819278444\n",
    "{'colsample_bytree': 0.8, 'eval_metric': 'mae', 'gamma': 1, 'learning_rate': 0.01, 'max_depth': 6, 'n_estimators': 150,\n",
    "'reg_alpha': 0.3, 'subsample': 0.8} - -9045.13\n"
   ]
  },
  {
   "cell_type": "markdown",
   "metadata": {},
   "source": [
    "SUMMARY: Having the best selected parameters, next step is to check the final results for drug rating predictions on test data set"
   ]
  },
  {
   "cell_type": "markdown",
   "metadata": {},
   "source": [
    "## FINAL DRUG REVIEW RATING PREDICTIONS (on test data set)\n"
   ]
  },
  {
   "cell_type": "code",
   "execution_count": 35,
   "metadata": {},
   "outputs": [
    {
     "name": "stdout",
     "output_type": "stream",
     "text": [
      "Logistic Regression\n",
      "Mean cross validation accuracy is 0.43219420105669126\n",
      "Predicted accuracy is :0.416023166023166\n",
      "\n",
      "Random Forest\n",
      "Mean cross validation accuracy is 0.47606056837604055\n",
      "Predicted accuracy is :0.47586872586872586\n",
      "\n",
      "Gaussian Naive Bayes\n",
      "Mean cross validation accuracy is 0.4506013924588882\n",
      "Predicted accuracy is :0.4266409266409266\n",
      "\n",
      "XGBoost\n",
      "Mean cross validation accuracy is 0.46279874819278444\n",
      "Predicted accuracy is :0.4420849420849421\n",
      "\n"
     ]
    }
   ],
   "source": [
    "import pandas as pd\n",
    "from sklearn.metrics import accuracy_score\n",
    "from sklearn.model_selection import cross_val_score\n",
    "from sklearn.linear_model import LogisticRegression\n",
    "from sklearn import svm\n",
    "from sklearn.ensemble import RandomForestClassifier\n",
    "from sklearn.naive_bayes import GaussianNB\n",
    "from xgboost import XGBClassifier\n",
    "from sklearn.metrics import roc_auc_score\n",
    "import warnings; warnings.simplefilter('ignore')\n",
    "\n",
    "\n",
    "df1 = pd.read_csv('train_output.csv', sep=';')\n",
    "df2 = pd.read_csv('test_output.csv', sep=';')\n",
    "\n",
    "X_train = df1[['effectiveness', 'sideEffects', 'urlDrugName_group', 'condition_group', 'benefitsReview_len',\n",
    "               'sideEffectsReview_len', 'commentsReview_len', 'benefitsReview_subjectivity', 'sideEffectsReview_polarity']]\n",
    "y_train = df1[['rating']]\n",
    "\n",
    "X_test = df2[['effectiveness', 'sideEffects', 'urlDrugName_group', 'condition_group', 'benefitsReview_len',\n",
    "               'sideEffectsReview_len', 'commentsReview_len', 'benefitsReview_subjectivity', 'sideEffectsReview_polarity']]\n",
    "y_test = df2[['rating']]\n",
    "\n",
    "def prediction(model):\n",
    "\n",
    "    # mean accuracy with cross validation\n",
    "    cv_accuracy = cross_val_score(model, X_train, y_train.values.ravel(), cv=10, scoring='accuracy')\n",
    "    print(\"Mean cross validation accuracy is {}\".format(cv_accuracy.mean()))\n",
    "\n",
    "    # training selected model\n",
    "    model.fit(X_train, y_train.values.ravel())\n",
    "\n",
    "    # making prediction on test data set\n",
    "    y_pred = model.predict(X_test)\n",
    "\n",
    "    # measuring accuracy score for selected model\n",
    "    acc_score = accuracy_score(y_test, y_pred)\n",
    "    print('Predicted accuracy is :{}\\n'.format(acc_score))\n",
    "\n",
    "\n",
    "\n",
    "clf_logreg = LogisticRegression(C=1, max_iter=100, solver='newton-cg')\n",
    "print('Logistic Regression')\n",
    "prediction(clf_logreg)\n",
    "\n",
    "clf_rf = RandomForestClassifier(bootstrap=True,  criterion=\"entropy\", max_features=0.55, min_samples_leaf=20, min_samples_split=10, n_estimators=100)\n",
    "print('Random Forest')\n",
    "prediction(clf_rf)\n",
    "\n",
    "clf_gnb = GaussianNB()\n",
    "print('Gaussian Naive Bayes')\n",
    "prediction(clf_gnb)\n",
    "\n",
    "clf_xgb = XGBClassifier(colsample_bytree=0.8, eval_metric='mae', gamma=1, learning_rate=0.01, max_depth=6, n_estimators=150, reg_alpha=0.3, subsample=0.8)\n",
    "print('XGBoost')\n",
    "prediction(clf_xgb)\n"
   ]
  },
  {
   "cell_type": "markdown",
   "metadata": {},
   "source": [
    "SUMMARY: It occured that, for my data sets, the best selected model for predicting the overall rating of a drug is<br>\n",
    "**Random Forest with accuracy 0.4758**"
   ]
  },
  {
   "cell_type": "markdown",
   "metadata": {},
   "source": [
    "## THOUGHTS ABOUT THE ASSIGNMENT:\n",
    "The main goal for solving the assignmnet was to present the knowledge and skills I already have as a Data Scientist. However, this assignment is a research which can be continued. There are several things that can be done and verified, especially in feature engineering process. For example: grouping of drugs names and conditions name can be done taking into account that their values are not cleared and have mistakes, reviews (side effects, benefits, comments) could be treated sepperately, each text could be splitted, stemmed and additional features representing n-grams could be added to data sets. Reviews polarity could be represented by 2 (positive/negative) or 3 (positive/neutral/negative) values. The same with lenghts of the reviews - they can be group by short/normal/long values. Additionally, other models like Support Vector Machine could be then checked on data sets composed from different sets of features. And last but not least deep learning techniques like TensorFlow, which is quite precise, but can be time consuming, could be also verifed.    "
   ]
  },
  {
   "cell_type": "markdown",
   "metadata": {},
   "source": [
    "## DATA FOR DECISION MAKING"
   ]
  },
  {
   "cell_type": "markdown",
   "metadata": {},
   "source": [
    "My model predicts the overall rating of a drug with ~0.48 accuracy and mean absolut error while comparing true and predicted values for the whole predictions is only ~1.007. It means that in average our predictions can vary by 1. "
   ]
  },
  {
   "cell_type": "markdown",
   "metadata": {},
   "source": [
    "To make a decision if the drug should be prescribed based on overall rating, let's group the results by 'drug name' and 'condition'"
   ]
  },
  {
   "cell_type": "markdown",
   "metadata": {},
   "source": [
    "### 1. Drugs' results (based on test data set)"
   ]
  },
  {
   "cell_type": "code",
   "execution_count": 45,
   "metadata": {},
   "outputs": [
    {
     "data": {
      "text/html": [
       "<div>\n",
       "<style scoped>\n",
       "    .dataframe tbody tr th:only-of-type {\n",
       "        vertical-align: middle;\n",
       "    }\n",
       "\n",
       "    .dataframe tbody tr th {\n",
       "        vertical-align: top;\n",
       "    }\n",
       "\n",
       "    .dataframe thead th {\n",
       "        text-align: right;\n",
       "    }\n",
       "</style>\n",
       "<table border=\"1\" class=\"dataframe\">\n",
       "  <thead>\n",
       "    <tr style=\"text-align: right;\">\n",
       "      <th></th>\n",
       "      <th>Drug name</th>\n",
       "      <th>Effectiveness (1-5)</th>\n",
       "      <th>Side effects (1-5)</th>\n",
       "      <th>Benefits review polarity (0-1)</th>\n",
       "      <th>Side effects review polarity (0-1)</th>\n",
       "      <th>Comments review polarity (0 - 1)</th>\n",
       "      <th>Number of reviews</th>\n",
       "      <th>Prediction mae</th>\n",
       "      <th>Predicted rating (1 - 10)</th>\n",
       "    </tr>\n",
       "  </thead>\n",
       "  <tbody>\n",
       "    <tr>\n",
       "      <th>0</th>\n",
       "      <td>abilify</td>\n",
       "      <td>2.000000</td>\n",
       "      <td>3.000000</td>\n",
       "      <td>0.552546</td>\n",
       "      <td>0.617647</td>\n",
       "      <td>0.441667</td>\n",
       "      <td>3</td>\n",
       "      <td>1.666667</td>\n",
       "      <td>5.666667</td>\n",
       "    </tr>\n",
       "    <tr>\n",
       "      <th>1</th>\n",
       "      <td>acanya</td>\n",
       "      <td>4.000000</td>\n",
       "      <td>3.000000</td>\n",
       "      <td>0.625000</td>\n",
       "      <td>0.406863</td>\n",
       "      <td>0.500000</td>\n",
       "      <td>1</td>\n",
       "      <td>1.000000</td>\n",
       "      <td>10.000000</td>\n",
       "    </tr>\n",
       "    <tr>\n",
       "      <th>2</th>\n",
       "      <td>accutane</td>\n",
       "      <td>3.375000</td>\n",
       "      <td>1.937500</td>\n",
       "      <td>0.504278</td>\n",
       "      <td>0.502599</td>\n",
       "      <td>0.551960</td>\n",
       "      <td>16</td>\n",
       "      <td>0.812500</td>\n",
       "      <td>7.187500</td>\n",
       "    </tr>\n",
       "    <tr>\n",
       "      <th>3</th>\n",
       "      <td>aciphex</td>\n",
       "      <td>3.666667</td>\n",
       "      <td>2.000000</td>\n",
       "      <td>0.733750</td>\n",
       "      <td>0.557516</td>\n",
       "      <td>0.476389</td>\n",
       "      <td>3</td>\n",
       "      <td>1.666667</td>\n",
       "      <td>6.333333</td>\n",
       "    </tr>\n",
       "    <tr>\n",
       "      <th>4</th>\n",
       "      <td>actonel</td>\n",
       "      <td>2.000000</td>\n",
       "      <td>2.000000</td>\n",
       "      <td>0.500000</td>\n",
       "      <td>0.526377</td>\n",
       "      <td>0.666667</td>\n",
       "      <td>1</td>\n",
       "      <td>1.000000</td>\n",
       "      <td>6.000000</td>\n",
       "    </tr>\n",
       "    <tr>\n",
       "      <th>5</th>\n",
       "      <td>acyclovir</td>\n",
       "      <td>3.500000</td>\n",
       "      <td>3.750000</td>\n",
       "      <td>0.516250</td>\n",
       "      <td>0.612418</td>\n",
       "      <td>0.495725</td>\n",
       "      <td>4</td>\n",
       "      <td>0.500000</td>\n",
       "      <td>9.250000</td>\n",
       "    </tr>\n",
       "    <tr>\n",
       "      <th>6</th>\n",
       "      <td>adderall</td>\n",
       "      <td>3.444444</td>\n",
       "      <td>2.888889</td>\n",
       "      <td>0.598073</td>\n",
       "      <td>0.572679</td>\n",
       "      <td>0.559663</td>\n",
       "      <td>9</td>\n",
       "      <td>0.555556</td>\n",
       "      <td>8.666667</td>\n",
       "    </tr>\n",
       "    <tr>\n",
       "      <th>7</th>\n",
       "      <td>adderall-xr</td>\n",
       "      <td>3.600000</td>\n",
       "      <td>1.600000</td>\n",
       "      <td>0.670556</td>\n",
       "      <td>0.464748</td>\n",
       "      <td>0.555053</td>\n",
       "      <td>5</td>\n",
       "      <td>2.200000</td>\n",
       "      <td>5.200000</td>\n",
       "    </tr>\n",
       "    <tr>\n",
       "      <th>8</th>\n",
       "      <td>adipex-p</td>\n",
       "      <td>3.166667</td>\n",
       "      <td>2.666667</td>\n",
       "      <td>0.544964</td>\n",
       "      <td>0.499951</td>\n",
       "      <td>0.532440</td>\n",
       "      <td>6</td>\n",
       "      <td>0.500000</td>\n",
       "      <td>7.500000</td>\n",
       "    </tr>\n",
       "    <tr>\n",
       "      <th>9</th>\n",
       "      <td>advair-diskus</td>\n",
       "      <td>4.000000</td>\n",
       "      <td>4.000000</td>\n",
       "      <td>0.475000</td>\n",
       "      <td>0.455882</td>\n",
       "      <td>0.478125</td>\n",
       "      <td>2</td>\n",
       "      <td>0.000000</td>\n",
       "      <td>10.000000</td>\n",
       "    </tr>\n",
       "  </tbody>\n",
       "</table>\n",
       "</div>"
      ],
      "text/plain": [
       "       Drug name  Effectiveness (1-5)  Side effects (1-5)  \\\n",
       "0        abilify             2.000000            3.000000   \n",
       "1         acanya             4.000000            3.000000   \n",
       "2       accutane             3.375000            1.937500   \n",
       "3        aciphex             3.666667            2.000000   \n",
       "4        actonel             2.000000            2.000000   \n",
       "5      acyclovir             3.500000            3.750000   \n",
       "6       adderall             3.444444            2.888889   \n",
       "7    adderall-xr             3.600000            1.600000   \n",
       "8       adipex-p             3.166667            2.666667   \n",
       "9  advair-diskus             4.000000            4.000000   \n",
       "\n",
       "   Benefits review polarity (0-1)  Side effects review polarity (0-1)  \\\n",
       "0                        0.552546                            0.617647   \n",
       "1                        0.625000                            0.406863   \n",
       "2                        0.504278                            0.502599   \n",
       "3                        0.733750                            0.557516   \n",
       "4                        0.500000                            0.526377   \n",
       "5                        0.516250                            0.612418   \n",
       "6                        0.598073                            0.572679   \n",
       "7                        0.670556                            0.464748   \n",
       "8                        0.544964                            0.499951   \n",
       "9                        0.475000                            0.455882   \n",
       "\n",
       "   Comments review polarity (0 - 1)  Number of reviews  Prediction mae  \\\n",
       "0                          0.441667                  3        1.666667   \n",
       "1                          0.500000                  1        1.000000   \n",
       "2                          0.551960                 16        0.812500   \n",
       "3                          0.476389                  3        1.666667   \n",
       "4                          0.666667                  1        1.000000   \n",
       "5                          0.495725                  4        0.500000   \n",
       "6                          0.559663                  9        0.555556   \n",
       "7                          0.555053                  5        2.200000   \n",
       "8                          0.532440                  6        0.500000   \n",
       "9                          0.478125                  2        0.000000   \n",
       "\n",
       "   Predicted rating (1 - 10)  \n",
       "0                   5.666667  \n",
       "1                  10.000000  \n",
       "2                   7.187500  \n",
       "3                   6.333333  \n",
       "4                   6.000000  \n",
       "5                   9.250000  \n",
       "6                   8.666667  \n",
       "7                   5.200000  \n",
       "8                   7.500000  \n",
       "9                  10.000000  "
      ]
     },
     "execution_count": 45,
     "metadata": {},
     "output_type": "execute_result"
    }
   ],
   "source": [
    "drugs = pd.read_csv('drugs.csv', sep=';')\n",
    "drugs.head(10)"
   ]
  },
  {
   "cell_type": "markdown",
   "metadata": {},
   "source": [
    "### 2. Drugs' results for specific condition"
   ]
  },
  {
   "cell_type": "code",
   "execution_count": 80,
   "metadata": {},
   "outputs": [
    {
     "data": {
      "text/html": [
       "<div>\n",
       "<style scoped>\n",
       "    .dataframe tbody tr th:only-of-type {\n",
       "        vertical-align: middle;\n",
       "    }\n",
       "\n",
       "    .dataframe tbody tr th {\n",
       "        vertical-align: top;\n",
       "    }\n",
       "\n",
       "    .dataframe thead th {\n",
       "        text-align: right;\n",
       "    }\n",
       "</style>\n",
       "<table border=\"1\" class=\"dataframe\">\n",
       "  <thead>\n",
       "    <tr style=\"text-align: right;\">\n",
       "      <th></th>\n",
       "      <th>Condition</th>\n",
       "      <th>Drug name</th>\n",
       "      <th>Effectiveness (0-4)</th>\n",
       "      <th>Side effects (0-4)</th>\n",
       "      <th>Benefits review polarity (0-1)</th>\n",
       "      <th>Side effects review polarity (0-1)</th>\n",
       "      <th>Comments review polarity (0-1)</th>\n",
       "      <th>Number of reviews</th>\n",
       "      <th>Prediction mae</th>\n",
       "      <th>Predicted rating (1-10)</th>\n",
       "    </tr>\n",
       "  </thead>\n",
       "  <tbody>\n",
       "    <tr>\n",
       "      <th>0</th>\n",
       "      <td>1mg</td>\n",
       "      <td>propecia</td>\n",
       "      <td>3.000000</td>\n",
       "      <td>3.0</td>\n",
       "      <td>0.630314</td>\n",
       "      <td>0.457516</td>\n",
       "      <td>0.716667</td>\n",
       "      <td>1</td>\n",
       "      <td>1.000000</td>\n",
       "      <td>8.000000</td>\n",
       "    </tr>\n",
       "    <tr>\n",
       "      <th>1</th>\n",
       "      <td>2</td>\n",
       "      <td>aricept</td>\n",
       "      <td>4.000000</td>\n",
       "      <td>4.0</td>\n",
       "      <td>0.825000</td>\n",
       "      <td>0.911765</td>\n",
       "      <td>0.825000</td>\n",
       "      <td>1</td>\n",
       "      <td>1.000000</td>\n",
       "      <td>10.000000</td>\n",
       "    </tr>\n",
       "    <tr>\n",
       "      <th>2</th>\n",
       "      <td>2 broken arms</td>\n",
       "      <td>mobic</td>\n",
       "      <td>4.000000</td>\n",
       "      <td>4.0</td>\n",
       "      <td>0.500000</td>\n",
       "      <td>0.529412</td>\n",
       "      <td>0.525000</td>\n",
       "      <td>1</td>\n",
       "      <td>1.000000</td>\n",
       "      <td>10.000000</td>\n",
       "    </tr>\n",
       "    <tr>\n",
       "      <th>3</th>\n",
       "      <td>75 mg</td>\n",
       "      <td>effexor</td>\n",
       "      <td>3.000000</td>\n",
       "      <td>3.0</td>\n",
       "      <td>0.652917</td>\n",
       "      <td>0.382353</td>\n",
       "      <td>0.500000</td>\n",
       "      <td>1</td>\n",
       "      <td>0.000000</td>\n",
       "      <td>8.000000</td>\n",
       "    </tr>\n",
       "    <tr>\n",
       "      <th>4</th>\n",
       "      <td>? 'heart failure'</td>\n",
       "      <td>prinivil</td>\n",
       "      <td>0.000000</td>\n",
       "      <td>2.0</td>\n",
       "      <td>0.800000</td>\n",
       "      <td>0.455882</td>\n",
       "      <td>0.530833</td>\n",
       "      <td>1</td>\n",
       "      <td>2.000000</td>\n",
       "      <td>1.000000</td>\n",
       "    </tr>\n",
       "    <tr>\n",
       "      <th>5</th>\n",
       "      <td>acid reflux</td>\n",
       "      <td>nexium</td>\n",
       "      <td>3.333333</td>\n",
       "      <td>4.0</td>\n",
       "      <td>0.511111</td>\n",
       "      <td>0.529412</td>\n",
       "      <td>0.500000</td>\n",
       "      <td>3</td>\n",
       "      <td>0.333333</td>\n",
       "      <td>8.666667</td>\n",
       "    </tr>\n",
       "    <tr>\n",
       "      <th>6</th>\n",
       "      <td>acid reflux</td>\n",
       "      <td>prilosec</td>\n",
       "      <td>4.000000</td>\n",
       "      <td>4.0</td>\n",
       "      <td>0.525000</td>\n",
       "      <td>0.529412</td>\n",
       "      <td>0.555278</td>\n",
       "      <td>1</td>\n",
       "      <td>0.000000</td>\n",
       "      <td>10.000000</td>\n",
       "    </tr>\n",
       "    <tr>\n",
       "      <th>7</th>\n",
       "      <td>acid reflux / barrett's esophagus</td>\n",
       "      <td>nexium</td>\n",
       "      <td>3.000000</td>\n",
       "      <td>4.0</td>\n",
       "      <td>0.522321</td>\n",
       "      <td>0.676471</td>\n",
       "      <td>0.656250</td>\n",
       "      <td>1</td>\n",
       "      <td>1.000000</td>\n",
       "      <td>9.000000</td>\n",
       "    </tr>\n",
       "    <tr>\n",
       "      <th>8</th>\n",
       "      <td>acid reflux, gerd</td>\n",
       "      <td>protonix</td>\n",
       "      <td>3.000000</td>\n",
       "      <td>4.0</td>\n",
       "      <td>0.500000</td>\n",
       "      <td>0.529412</td>\n",
       "      <td>0.625000</td>\n",
       "      <td>1</td>\n",
       "      <td>1.000000</td>\n",
       "      <td>8.000000</td>\n",
       "    </tr>\n",
       "    <tr>\n",
       "      <th>9</th>\n",
       "      <td>acl surgery</td>\n",
       "      <td>percocet</td>\n",
       "      <td>2.000000</td>\n",
       "      <td>2.0</td>\n",
       "      <td>0.500000</td>\n",
       "      <td>0.450980</td>\n",
       "      <td>0.500000</td>\n",
       "      <td>1</td>\n",
       "      <td>1.000000</td>\n",
       "      <td>6.000000</td>\n",
       "    </tr>\n",
       "  </tbody>\n",
       "</table>\n",
       "</div>"
      ],
      "text/plain": [
       "                           Condition Drug name  Effectiveness (0-4)  \\\n",
       "0                                1mg  propecia             3.000000   \n",
       "1                                  2   aricept             4.000000   \n",
       "2                      2 broken arms     mobic             4.000000   \n",
       "3                              75 mg   effexor             3.000000   \n",
       "4                  ? 'heart failure'  prinivil             0.000000   \n",
       "5                        acid reflux    nexium             3.333333   \n",
       "6                        acid reflux  prilosec             4.000000   \n",
       "7  acid reflux / barrett's esophagus    nexium             3.000000   \n",
       "8                  acid reflux, gerd  protonix             3.000000   \n",
       "9                        acl surgery  percocet             2.000000   \n",
       "\n",
       "   Side effects (0-4)  Benefits review polarity (0-1)  \\\n",
       "0                 3.0                        0.630314   \n",
       "1                 4.0                        0.825000   \n",
       "2                 4.0                        0.500000   \n",
       "3                 3.0                        0.652917   \n",
       "4                 2.0                        0.800000   \n",
       "5                 4.0                        0.511111   \n",
       "6                 4.0                        0.525000   \n",
       "7                 4.0                        0.522321   \n",
       "8                 4.0                        0.500000   \n",
       "9                 2.0                        0.500000   \n",
       "\n",
       "   Side effects review polarity (0-1)  Comments review polarity (0-1)  \\\n",
       "0                            0.457516                        0.716667   \n",
       "1                            0.911765                        0.825000   \n",
       "2                            0.529412                        0.525000   \n",
       "3                            0.382353                        0.500000   \n",
       "4                            0.455882                        0.530833   \n",
       "5                            0.529412                        0.500000   \n",
       "6                            0.529412                        0.555278   \n",
       "7                            0.676471                        0.656250   \n",
       "8                            0.529412                        0.625000   \n",
       "9                            0.450980                        0.500000   \n",
       "\n",
       "   Number of reviews  Prediction mae  Predicted rating (1-10)  \n",
       "0                  1        1.000000                 8.000000  \n",
       "1                  1        1.000000                10.000000  \n",
       "2                  1        1.000000                10.000000  \n",
       "3                  1        0.000000                 8.000000  \n",
       "4                  1        2.000000                 1.000000  \n",
       "5                  3        0.333333                 8.666667  \n",
       "6                  1        0.000000                10.000000  \n",
       "7                  1        1.000000                 9.000000  \n",
       "8                  1        1.000000                 8.000000  \n",
       "9                  1        1.000000                 6.000000  "
      ]
     },
     "execution_count": 80,
     "metadata": {},
     "output_type": "execute_result"
    }
   ],
   "source": [
    "conditions = pd.read_csv('conditions.csv', sep=';')\n",
    "conditions.head(10)"
   ]
  },
  {
   "cell_type": "markdown",
   "metadata": {},
   "source": [
    "### 3. Example: plots for Acne condition"
   ]
  },
  {
   "cell_type": "code",
   "execution_count": 82,
   "metadata": {
    "scrolled": true
   },
   "outputs": [
    {
     "data": {
      "image/png": "[encoded data removed]",
      "text/plain": [
       "<Figure size 432x288 with 1 Axes>"
      ]
     },
     "metadata": {
      "needs_background": "light"
     },
     "output_type": "display_data"
    },
    {
     "data": {
      "image/png": "[encoded data removed]",
      "text/plain": [
       "<Figure size 432x288 with 1 Axes>"
      ]
     },
     "metadata": {
      "needs_background": "light"
     },
     "output_type": "display_data"
    },
    {
     "data": {
      "image/png": "[encoded data removed]",
      "text/plain": [
       "<Figure size 432x288 with 1 Axes>"
      ]
     },
     "metadata": {
      "needs_background": "light"
     },
     "output_type": "display_data"
    },
    {
     "data": {
      "image/png": "[encoded data removed]",
      "text/plain": [
       "<Figure size 432x288 with 1 Axes>"
      ]
     },
     "metadata": {
      "needs_background": "light"
     },
     "output_type": "display_data"
    }
   ],
   "source": [
    "import pandas as pd\n",
    "import warnings;warnings.simplefilter('ignore')\n",
    "import numpy as np\n",
    "import matplotlib.pyplot as plt\n",
    "\n",
    "conditions = pd.read_csv('conditions.csv', sep=';')\n",
    "\n",
    "condition_value = 'acne'\n",
    "\n",
    "dfx = conditions[conditions['Condition'] == condition_value]\n",
    "dfx = dfx.reset_index(drop=True)\n",
    "\n",
    "cols = ['Effectiveness (0-4)', 'Side effects (0-4)', 'Benefits review polarity (0-1)',\n",
    "        'Side effects review polarity (0-1)', 'Comments review polarity (0-1)', 'Number of reviews',\n",
    "        'Prediction mae', 'Predicted rating (1-10)']\n",
    "for col in cols:\n",
    "    dfx[col] = pd.to_numeric(dfx[col])\n",
    "\n",
    "effectiveness = dfx[['Drug name', 'Effectiveness (0-4)']]\n",
    "effectiveness.sort_values('Effectiveness (0-4)', ascending=True).plot(x=\"Drug name\", kind=\"barh\")\n",
    "plt.title('Mean effectiveness of drugs for Acne condition')\n",
    "text_ticks = ['Ineffective', 'Marginally', 'Moderately', 'Considerably', 'Highly']\n",
    "numerical_ticks = np.array([0, 1, 2, 3, 4])\n",
    "plt.xticks(numerical_ticks, text_ticks)\n",
    "\n",
    "sideEffects = dfx[['Drug name', 'Side effects (0-4)']]\n",
    "sideEffects.sort_values('Side effects (0-4)', ascending=True).plot(x=\"Drug name\", kind=\"barh\")\n",
    "plt.title('Mean side effects of drugs for Acne condition')\n",
    "text_ticks = ['Extremely Severe', 'Severe', 'Moderate', 'Mild', 'No']\n",
    "numerical_ticks = np.array([0, 1, 2, 3, 4])\n",
    "plt.xticks(numerical_ticks, text_ticks)\n",
    "\n",
    "polarity = dfx[['Drug name', 'Benefits review polarity (0-1)', 'Side effects review polarity (0-1)',\n",
    "                     'Comments review polarity (0-1)']]\n",
    "polarity.plot(x=\"Drug name\", kind=\"barh\")\n",
    "plt.title('Mean polarity of drugs\\' reviews for Acne condition')\n",
    "text_ticks = ['Negative', 'Neutral', 'Positive']\n",
    "numerical_ticks = np.array([0, 0.5, 1])\n",
    "plt.xticks(numerical_ticks, text_ticks)\n",
    "\n",
    "pred_rating = dfx[['Drug name', 'Predicted rating (1-10)']]\n",
    "err = dfx['Prediction mae'].values\n",
    "\n",
    "pred_rating.plot(x=\"Drug name\", kind=\"bar\", yerr=err)\n",
    "plt.title('Mean predicted ratings of drugs for Acne condition with errors')\n",
    "numerical_ticks = np.array([0, 1, 2, 3, 4, 5, 6, 7, 8, 9, 10])\n",
    "plt.yticks(numerical_ticks)\n",
    "\n",
    "plt.show()\n"
   ]
  }
 ],
 "metadata": {
  "kernelspec": {
   "display_name": "Python 3",
   "language": "python",
   "name": "python3"
  },
  "language_info": {
   "codemirror_mode": {
    "name": "ipython",
    "version": 3
   },
   "file_extension": ".py",
   "mimetype": "text/x-python",
   "name": "python",
   "nbconvert_exporter": "python",
   "pygments_lexer": "ipython3",
   "version": "3.7.2"
  }
 },
 "nbformat": 4,
 "nbformat_minor": 1
}
